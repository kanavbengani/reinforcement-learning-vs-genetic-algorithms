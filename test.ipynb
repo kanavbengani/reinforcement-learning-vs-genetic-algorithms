{
 "cells": [
  {
   "cell_type": "code",
   "execution_count": 11,
   "metadata": {},
   "outputs": [
    {
     "name": "stdout",
     "output_type": "stream",
     "text": [
      "len(q_table): 1496\n",
      "epsilon 0.1353285164160905\n"
     ]
    }
   ],
   "source": [
    "import pickle\n",
    "\n",
    "q_table = pickle.load(open('pkl_files/q_table_better.pkl', 'rb'))\n",
    "num_updates = pickle.load(open('pkl_files/num_updates_better.pkl', 'rb'))\n",
    "epsilon = pickle.load(open('pkl_files/epsilon_better.pkl', 'rb'))\n",
    "print(\"len(q_table):\", len(q_table))\n",
    "print(\"epsilon\", epsilon)"
   ]
  },
  {
   "cell_type": "code",
   "execution_count": 25,
   "metadata": {},
   "outputs": [
    {
     "data": {
      "text/plain": [
       "array([-1000000.        ,  4887725.11091002, -1000000.        ,\n",
       "        2729392.37181174,  2553060.75528337,  2625567.50318703,\n",
       "        3598810.58100781])"
      ]
     },
     "execution_count": 25,
     "metadata": {},
     "output_type": "execute_result"
    }
   ],
   "source": [
    "q_table['0403000002']"
   ]
  },
  {
   "cell_type": "code",
   "execution_count": 4,
   "metadata": {},
   "outputs": [],
   "source": [
    "import pickle \n",
    "\n",
    "with open('pkl_files/epsilon_better.pkl', 'wb') as f:\n",
    "    pickle.dump(1, f)"
   ]
  },
  {
   "cell_type": "code",
   "execution_count": 1,
   "metadata": {},
   "outputs": [
    {
     "data": {
      "text/plain": [
       "[(1, 1), (1, 10), (-1, 10), (-1, 1)]"
      ]
     },
     "execution_count": 1,
     "metadata": {},
     "output_type": "execute_result"
    }
   ],
   "source": [
    "l = [(1, 10), (1, 1), (-1, 10), (-1, 1)]\n",
    "sorted(l, key=lambda x: (-x[0], x[1] if x[0] == 1 else -1 * x[1]))\n",
    "\n",
    "\n",
    "# (1, 1), (1, 10), (-1, 10), (-1, 1)"
   ]
  },
  {
   "cell_type": "code",
   "execution_count": 22,
   "metadata": {},
   "outputs": [
    {
     "data": {
      "text/plain": [
       "<Action.SHOOT: 6>"
      ]
     },
     "execution_count": 22,
     "metadata": {},
     "output_type": "execute_result"
    }
   ],
   "source": [
    "from Action import Action\n",
    "import numpy as np\n",
    "actions = set(Action)\n",
    "invalid_actions = set([Action.MOVE_UP])\n",
    "\n",
    "\n",
    "np.random.choice(list(actions.difference(invalid_actions)))"
   ]
  },
  {
   "cell_type": "code",
   "execution_count": 27,
   "metadata": {},
   "outputs": [
    {
     "name": "stdout",
     "output_type": "stream",
     "text": [
      "{0: (1, 10), 1: (1, 1), 2: (-1, 10), 3: (-1, 1)}\n",
      "1\n",
      "0\n",
      "2\n",
      "3\n"
     ]
    }
   ],
   "source": [
    "fitness = {0: (1, 10), 1: (1, 1), 2: (-1, 10), 3: (-1, 1)}\n",
    "print(fitness)\n",
    "best_fitnesses = {k: v for k, v in sorted(fitness.items(), key=lambda item: (-item[1][0], item[1][1] if item[1][0] == 1 else -1 * item[1][1]))}\n",
    "best_fitnesses\n",
    "\n",
    "new_policies = {}\n",
    "for i in range(4): \n",
    "    print(list(best_fitnesses.keys())[i])"
   ]
  },
  {
   "cell_type": "code",
   "execution_count": 28,
   "metadata": {},
   "outputs": [
    {
     "name": "stdout",
     "output_type": "stream",
     "text": [
      "Action.MOVE_LEFT\n",
      "Action.MOVE_DOWN\n",
      "Action.ROTATE_GUN_RIGHT\n",
      "Action.ROTATE_GUN_LEFT\n",
      "Action.MOVE_RIGHT\n",
      "Action.SHOOT\n",
      "Action.MOVE_UP\n"
     ]
    }
   ],
   "source": [
    "actions = set(Action)\n",
    "for i in actions:\n",
    "    print(i)"
   ]
  },
  {
   "cell_type": "code",
   "execution_count": null,
   "metadata": {},
   "outputs": [],
   "source": []
  }
 ],
 "metadata": {
  "kernelspec": {
   "display_name": "cs4100_project_venv",
   "language": "python",
   "name": "python3"
  },
  "language_info": {
   "codemirror_mode": {
    "name": "ipython",
    "version": 3
   },
   "file_extension": ".py",
   "mimetype": "text/x-python",
   "name": "python",
   "nbconvert_exporter": "python",
   "pygments_lexer": "ipython3",
   "version": "3.10.9"
  }
 },
 "nbformat": 4,
 "nbformat_minor": 2
}
