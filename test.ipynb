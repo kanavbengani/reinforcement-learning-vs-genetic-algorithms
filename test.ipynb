{
 "cells": [
  {
   "cell_type": "code",
   "execution_count": 30,
   "metadata": {},
   "outputs": [
    {
     "name": "stdout",
     "output_type": "stream",
     "text": [
      "len(q_table): 98093\n",
      "epsilon 0.36769508779317106\n"
     ]
    }
   ],
   "source": [
    "import pickle\n",
    "\n",
    "q_table = pickle.load(open('q_table.pkl', 'rb'))\n",
    "num_updates = pickle.load(open('num_updates.pkl', 'rb'))\n",
    "epsilon = pickle.load(open('epsilon.pkl', 'rb'))\n",
    "print(\"len(q_table):\", len(q_table))\n",
    "print(\"epsilon\", epsilon)"
   ]
  },
  {
   "cell_type": "code",
   "execution_count": 102,
   "metadata": {},
   "outputs": [
    {
     "data": {
      "text/plain": [
       "array([-1.e+01,  1.e+02, -1.e+01, -1.e+06, -1.e+01, -1.e+01,  1.e+06])"
      ]
     },
     "execution_count": 102,
     "metadata": {},
     "output_type": "execute_result"
    }
   ],
   "source": [
    "q_table['0204030501080200']"
   ]
  },
  {
   "cell_type": "code",
   "execution_count": 108,
   "metadata": {},
   "outputs": [],
   "source": [
    "# Setting epsilon to 1\n",
    "with open('epsilon.pkl', 'wb') as f:\n",
    "    pickle.dump(1, f)"
   ]
  },
  {
   "cell_type": "code",
   "execution_count": 25,
   "metadata": {},
   "outputs": [
    {
     "data": {
      "text/plain": [
       "np.float64(0.24253562503633297)"
      ]
     },
     "execution_count": 25,
     "metadata": {},
     "output_type": "execute_result"
    }
   ],
   "source": [
    "import numpy as np \n",
    "from Direction import Direction\n",
    "\n",
    "def getFacing(pos1, dir, pos2):\n",
    "    vec = np.array(pos2) - np.array(pos1)\n",
    "    return (\n",
    "        vec / np.linalg.norm(vec)\n",
    "    ).dot(\n",
    "        Direction.dir_delta[dir]\n",
    "    )\n",
    "\n",
    "getFacing((0, 0), Direction.DOWN, (1, 4))\n"
   ]
  },
  {
   "cell_type": "code",
   "execution_count": null,
   "metadata": {},
   "outputs": [],
   "source": []
  }
 ],
 "metadata": {
  "kernelspec": {
   "display_name": "cs4100_project_venv",
   "language": "python",
   "name": "python3"
  },
  "language_info": {
   "codemirror_mode": {
    "name": "ipython",
    "version": 3
   },
   "file_extension": ".py",
   "mimetype": "text/x-python",
   "name": "python",
   "nbconvert_exporter": "python",
   "pygments_lexer": "ipython3",
   "version": "3.10.9"
  }
 },
 "nbformat": 4,
 "nbformat_minor": 2
}
