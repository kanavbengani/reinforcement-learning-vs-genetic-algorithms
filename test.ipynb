{
 "cells": [
  {
   "cell_type": "code",
   "execution_count": 86,
   "metadata": {},
   "outputs": [
    {
     "name": "stdout",
     "output_type": "stream",
     "text": [
      "len(q_table): 2387\n",
      "epsilon 0.6065305839212455\n"
     ]
    }
   ],
   "source": [
    "import pickle\n",
    "\n",
    "q_table = pickle.load(open('q_table.pkl', 'rb'))\n",
    "num_updates = pickle.load(open('num_updates.pkl', 'rb'))\n",
    "epsilon = pickle.load(open('epsilon.pkl', 'rb'))\n",
    "print(\"len(q_table):\", len(q_table))\n",
    "print(\"epsilon\", epsilon)"
   ]
  },
  {
   "cell_type": "code",
   "execution_count": 87,
   "metadata": {},
   "outputs": [
    {
     "data": {
      "text/plain": [
       "array([-1000000.        , -1000000.        ,  1907094.93765142,\n",
       "        2902680.4614491 ,  1905801.82497334,  1717951.17784714,\n",
       "        2191824.26703836])"
      ]
     },
     "execution_count": 87,
     "metadata": {},
     "output_type": "execute_result"
    }
   ],
   "source": [
    "q_table['0000020404']"
   ]
  },
  {
   "cell_type": "code",
   "execution_count": null,
   "metadata": {},
   "outputs": [],
   "source": []
  }
 ],
 "metadata": {
  "kernelspec": {
   "display_name": "cs4100_project_venv",
   "language": "python",
   "name": "python3"
  },
  "language_info": {
   "codemirror_mode": {
    "name": "ipython",
    "version": 3
   },
   "file_extension": ".py",
   "mimetype": "text/x-python",
   "name": "python",
   "nbconvert_exporter": "python",
   "pygments_lexer": "ipython3",
   "version": "3.10.9"
  }
 },
 "nbformat": 4,
 "nbformat_minor": 2
}
